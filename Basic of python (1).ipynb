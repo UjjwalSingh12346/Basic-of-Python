{
 "cells": [
  {
   "cell_type": "code",
   "execution_count": 1,
   "id": "c53e7e4d-b877-4f42-8fec-ef5ac44aed5f",
   "metadata": {},
   "outputs": [],
   "source": [
    "# Exercise 1: Prime Numbers\n",
    "def is_prime(number):\n",
    "    \"\"\"\n",
    "    This function checks whether a given number is a prime number.\n",
    "    A prime number is greater than 1 and only divisible by 1 and itself.\n",
    "    \"\"\"\n",
    "    if number <= 1:\n",
    "        return False\n",
    "    for i in range(2, int(number ** 0.5) + 1):\n",
    "        if number % i == 0:\n",
    "            return False\n",
    "    return True"
   ]
  },
  {
   "cell_type": "code",
   "execution_count": 2,
   "id": "d2869897-0406-4f21-9a13-103d92e8b121",
   "metadata": {},
   "outputs": [
    {
     "name": "stdout",
     "output_type": "stream",
     "text": [
      "Is 29 prime? True\n"
     ]
    }
   ],
   "source": [
    "# Test Prime Number Function\n",
    "num = 29\n",
    "print(f\"Is {num} prime? {is_prime(num)}\")\n"
   ]
  },
  {
   "cell_type": "code",
   "execution_count": 5,
   "id": "1863ac5f-fedc-4718-9d4a-757d03cb375a",
   "metadata": {},
   "outputs": [],
   "source": [
    "def check_product():\n",
    "    \"\"\"\n",
    "    This function generates two random numbers and asks the user to enter their product.\n",
    "    It then checks whether the answer provided by the user is correct or not.\n",
    "    \"\"\"\n",
    "    num1 = random.randint(1, 10)\n",
    "    num2 = random.randint(1, 10)\n",
    "    correct_product = num1 * num2\n",
    "     # Ask the user for the product of the two numbers\n",
    "    user_input = int(input(f\"Guess the product of {num1} and {num2}: \"))\n",
    "\n",
    "    if user_input == correct_product:\n",
    "        print(\"Correct!\")\n",
    "    else:\n",
    "        print(f\"Incorrect. The correct product is {correct_product}\")\n"
   ]
  },
  {
   "cell_type": "code",
   "execution_count": 7,
   "id": "47e555ff-5a9e-46da-8ed8-1d19dc33fc51",
   "metadata": {},
   "outputs": [],
   "source": [
    "# Exercise 3: Squares of Even/Odd Numbers\n",
    "def squares_of_even_numbers():\n",
    "    \"\"\"\n",
    "    This function prints the squares of all even numbers between 100 and 200.\n",
    "    \"\"\"\n",
    "    for i in range(100, 201):\n",
    "        if i % 2 == 0:\n",
    "            print(f\"The square of {i} is {i**2}\")\n",
    "\n"
   ]
  },
  {
   "cell_type": "code",
   "execution_count": 8,
   "id": "87e5519b-8606-4123-9431-143f4828f172",
   "metadata": {},
   "outputs": [],
   "source": [
    "# Exercise 4: Word Counter\n",
    "from collections import Counter\n",
    "import string\n",
    "\n",
    "def word_counter(input_text):\n",
    "    \"\"\"\n",
    "    This function counts the number of occurrences of each word in a given text.\n",
    "    \"\"\"\n",
    "    # Remove punctuation and convert the text to lowercase for word counting\n",
    "    translator = str.maketrans('', '', string.punctuation)\n",
    "    cleaned_text = input_text.translate(translator).lower()\n",
    "\n",
    "    # Split the text into words\n",
    "    words = cleaned_text.split()\n",
    "\n",
    "    # Use Counter to count the frequency of each word\n",
    "    word_count = Counter(words)\n",
    "\n",
    "    for word, count in word_count.items():\n",
    "        print(f\"'{word}': {count}\")\n"
   ]
  },
  {
   "cell_type": "code",
   "execution_count": 9,
   "id": "11ee36ce-0035-4d8f-ae47-4451d663faa2",
   "metadata": {},
   "outputs": [
    {
     "name": "stdout",
     "output_type": "stream",
     "text": [
      "'this': 2\n",
      "'is': 1\n",
      "'a': 1\n",
      "'sample': 1\n",
      "'text': 2\n",
      "'will': 1\n",
      "'be': 1\n",
      "'used': 1\n",
      "'to': 1\n",
      "'demonstrate': 1\n",
      "'the': 1\n",
      "'word': 1\n",
      "'counter': 1\n"
     ]
    }
   ],
   "source": [
    "# Example for testing:\n",
    "input_text = \"This is a sample text. This text will be used to demonstrate the word counter.\"\n",
    "word_counter(input_text)"
   ]
  },
  {
   "cell_type": "code",
   "execution_count": 10,
   "id": "97267008-5200-4211-acde-4721dc2f68db",
   "metadata": {},
   "outputs": [
    {
     "name": "stdout",
     "output_type": "stream",
     "text": [
      "Is 'racecar' a palindrome? True\n"
     ]
    }
   ],
   "source": [
    "# Exercise 5: Check for Palindrome\n",
    "def is_palindrome(s):\n",
    "    \"\"\"\n",
    "    This function checks if a given string is a palindrome, ignoring spaces, punctuation, and case.\n",
    "    \"\"\"\n",
    "    # Remove spaces and punctuation, convert to lowercase\n",
    "    translator = str.maketrans('', '', string.punctuation)\n",
    "    cleaned_string = s.translate(translator).replace(\" \", \"\").lower()\n",
    "\n",
    "    # Check if the string is equal to its reverse\n",
    "    return cleaned_string == cleaned_string[::-1]\n",
    "\n",
    "# Test Palindrome Function\n",
    "test_string = \"racecar\"\n",
    "print(f\"Is '{test_string}' a palindrome? {is_palindrome(test_string)}\")"
   ]
  },
  {
   "cell_type": "code",
   "execution_count": null,
   "id": "5d9ea534-0e26-43a1-8eb5-bc2489399822",
   "metadata": {},
   "outputs": [],
   "source": [
    "Explanation:\n",
    "Exercise 1 (Prime Numbers):\n",
    "\n",
    "The function is_prime checks if a number is prime. It returns True if the number is prime and False otherwise. It checks for divisibility only up to the square root of the number to optimize performance.\n",
    "Exercise 2 (Product of Random Numbers):\n",
    "\n",
    "The check_product function generates two random numbers between 1 and 10. It asks the user to guess the product and checks if the guess is correct.\n",
    "Exercise 3 (Squares of Even Numbers):\n",
    "\n",
    "The squares_of_even_numbers function prints the squares of all even numbers between 100 and 200.\n",
    "Exercise 4 (Word Counter):\n",
    "\n",
    "The word_counter function counts the occurrences of each word in the input text. It cleans the text by removing punctuation and converting it to lowercase to ensure accurate counting.\n",
    "Exercise 5 (Palindrome Check):\n",
    "\n",
    "The is_palindrome function checks if a given string is a palindrome, ignoring spaces, punctuation, and capitalization.\n",
    "You can execute this Python code in a Jupyter notebook (.ipynb file). Ensure the check_product and squares_of_even_numbers functions are called as needed to test their behavior.\n",
    "\n",
    "\n",
    "\n"
   ]
  }
 ],
 "metadata": {
  "kernelspec": {
   "display_name": "Python 3 (ipykernel)",
   "language": "python",
   "name": "python3"
  },
  "language_info": {
   "codemirror_mode": {
    "name": "ipython",
    "version": 3
   },
   "file_extension": ".py",
   "mimetype": "text/x-python",
   "name": "python",
   "nbconvert_exporter": "python",
   "pygments_lexer": "ipython3",
   "version": "3.12.7"
  }
 },
 "nbformat": 4,
 "nbformat_minor": 5
}
